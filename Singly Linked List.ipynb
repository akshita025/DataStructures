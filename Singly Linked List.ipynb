{
 "cells": [
  {
   "cell_type": "code",
   "execution_count": 348,
   "metadata": {},
   "outputs": [],
   "source": [
    "class Node:\n",
    "    def __init__(self,data):\n",
    "        self.data=data\n",
    "        self.next=None"
   ]
  },
  {
   "cell_type": "code",
   "execution_count": 349,
   "metadata": {},
   "outputs": [],
   "source": [
    "class Linkedlist:\n",
    "    def __init__(self):\n",
    "        self.head=None\n",
    "    \n",
    "    def append(self,dataz):\n",
    "        if self.head is None:\n",
    "            self.head=Node(dataz)\n",
    "            return\n",
    "        #traversal\n",
    "        curr=self.head\n",
    "        while curr.next:\n",
    "            curr=curr.next\n",
    "        curr.next=Node(dataz)\n",
    "    \n",
    "    def printLst(self):\n",
    "        l=[]\n",
    "        curr=self.head\n",
    "        l.append(curr.data)\n",
    "        while curr.next:\n",
    "            curr=curr.next\n",
    "            l.append(curr.data)\n",
    "        print(l)\n",
    "        \n",
    "    def prepend(self,dataz):\n",
    "        self.x=self.head\n",
    "        self.head=Node(dataz)\n",
    "        self.head.next=self.x\n",
    "        \n",
    "    def find(self,dataz):\n",
    "        cur=self.head\n",
    "        x=0\n",
    "        while True:\n",
    "            if cur.data==dataz:\n",
    "                x=1\n",
    "                break\n",
    "            else:\n",
    "                cur=cur.next\n",
    "                if cur==None:\n",
    "                    break\n",
    "        if x==1:\n",
    "            print(\"True\")\n",
    "        else:\n",
    "            print(\"False\")\n",
    "    \n",
    "    def concat(self,ls):\n",
    "        for i in ls:   \n",
    "            self.append(i)\n",
    "    \n",
    "    def remove(self,dataz):\n",
    "        currt=self.head\n",
    "        if currt.data == dataz:\n",
    "            self.head=currt.next\n",
    "        while True:\n",
    "            if currt.next.data==dataz:\n",
    "                currt.next=(currt.next).next\n",
    "                break\n",
    "            else:\n",
    "                currt=currt.next\n",
    "                \n",
    "    def reverse(self):\n",
    "        lt=[]\n",
    "        crt=self.head\n",
    "        lt.append(crt.data)\n",
    "        while crt.next:\n",
    "            crt=crt.next\n",
    "            lt.append(crt.data)\n",
    "        lt.reverse()\n",
    "        self.head=None\n",
    "        self.concat(lt)\n",
    "        "
   ]
  },
  {
   "cell_type": "code",
   "execution_count": 350,
   "metadata": {},
   "outputs": [],
   "source": [
    "LLobj=Linkedlist()"
   ]
  },
  {
   "cell_type": "code",
   "execution_count": 351,
   "metadata": {},
   "outputs": [],
   "source": [
    "LLobj.append(1)"
   ]
  },
  {
   "cell_type": "code",
   "execution_count": 352,
   "metadata": {},
   "outputs": [],
   "source": [
    "LLobj.append(2)"
   ]
  },
  {
   "cell_type": "code",
   "execution_count": 353,
   "metadata": {},
   "outputs": [],
   "source": [
    "LLobj.append(3)"
   ]
  },
  {
   "cell_type": "code",
   "execution_count": 354,
   "metadata": {},
   "outputs": [],
   "source": [
    "LLobj.prepend(4)"
   ]
  },
  {
   "cell_type": "code",
   "execution_count": 355,
   "metadata": {},
   "outputs": [],
   "source": [
    "LLobj.concat(['a','b','c'])"
   ]
  },
  {
   "cell_type": "code",
   "execution_count": 358,
   "metadata": {},
   "outputs": [
    {
     "name": "stdout",
     "output_type": "stream",
     "text": [
      "['c', 'b', 'a', 3, 2, 1, 4]\n"
     ]
    }
   ],
   "source": [
    "LLobj.printLst()"
   ]
  },
  {
   "cell_type": "code",
   "execution_count": 334,
   "metadata": {},
   "outputs": [
    {
     "name": "stdout",
     "output_type": "stream",
     "text": [
      "True\n"
     ]
    }
   ],
   "source": [
    "LLobj.find('b')"
   ]
  },
  {
   "cell_type": "raw",
   "metadata": {},
   "source": [
    "1->2->3->4->5->None\n",
    "\n",
    "[1,2,3,4,4,3,2,1]"
   ]
  },
  {
   "cell_type": "code",
   "execution_count": 346,
   "metadata": {},
   "outputs": [],
   "source": [
    "LLobj.remove('c')"
   ]
  },
  {
   "cell_type": "code",
   "execution_count": 357,
   "metadata": {},
   "outputs": [],
   "source": [
    "LLobj.reverse()"
   ]
  },
  {
   "cell_type": "code",
   "execution_count": 287,
   "metadata": {},
   "outputs": [
    {
     "name": "stdout",
     "output_type": "stream",
     "text": [
      "[3, 2, 1]\n"
     ]
    }
   ],
   "source": [
    "li=[1,2,3]\n",
    "li.reverse()\n",
    "print(li)"
   ]
  }
 ],
 "metadata": {
  "kernelspec": {
   "display_name": "Python 3",
   "language": "python",
   "name": "python3"
  },
  "language_info": {
   "codemirror_mode": {
    "name": "ipython",
    "version": 3
   },
   "file_extension": ".py",
   "mimetype": "text/x-python",
   "name": "python",
   "nbconvert_exporter": "python",
   "pygments_lexer": "ipython3",
   "version": "3.8.3"
  }
 },
 "nbformat": 4,
 "nbformat_minor": 4
}
